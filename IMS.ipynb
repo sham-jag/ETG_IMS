{
  "nbformat": 4,
  "nbformat_minor": 0,
  "metadata": {
    "colab": {
      "name": "IMS.ipynb",
      "provenance": [],
      "collapsed_sections": []
    },
    "kernelspec": {
      "name": "python3",
      "display_name": "Python 3"
    },
    "language_info": {
      "name": "python"
    }
  },
  "cells": [
    {
      "cell_type": "code",
      "metadata": {
        "id": "J7FhqCM-dKrb"
      },
      "source": [
        "import json\n"
      ],
      "execution_count": 1,
      "outputs": []
    },
    {
      "cell_type": "code",
      "metadata": {
        "id": "rzV8zTTVc377"
      },
      "source": [
        "def add():\n",
        "  fd = open(\"record.json\",'r')\n",
        "  r = fd.read()\n",
        "  fd.close()\n",
        "  record = json.loads(r)\n",
        "  c = int(input(\"Enter your choice:\\n_____________________\\n(1)- Add new item\\n(2)- Restock\\n\"))\n",
        "  if c == 1:  \n",
        "    prod_id = str(input(\"Enter product id:\"))\n",
        "    name = str(input(\"Enter name:\"))\n",
        "    pr = int(input(\"Enter price:\"))\n",
        "    qn = int(input(\"Enter quantity:\"))\n",
        "\n",
        "    record[prod_id] = {'name': name, 'pr': pr, 'qn': qn}\n",
        "      \n",
        "    print(\"New item added successfully!\")\n",
        "\n",
        "  elif c == 2:\n",
        "    prod_id = str(input(\"Enter product id:\"))\n",
        "    qn = int(input(\"Enter quantity:\"))\n",
        "\n",
        "    record[prod_id]['qn'] = record[prod_id]['qn'] + qn\n",
        "\n",
        "    print(\"Restock successful!\")\n",
        "    \n",
        "  data = json.dumps(record)\n",
        "  fd = open(\"record.json\",'w')\n",
        "  fd.write(data)\n",
        "  fd.close()\n",
        "  CHOICE = input('Enter y to continue or n to exit: ')\n",
        "  if CHOICE == 'y':\n",
        "      main()\n",
        "  else:\n",
        "      exit()"
      ],
      "execution_count": 2,
      "outputs": []
    },
    {
      "cell_type": "code",
      "metadata": {
        "id": "AjsjKyOBEXEE"
      },
      "source": [
        "def update():\n",
        "  fd = open(\"record.json\",'r')\n",
        "  r = fd.read()\n",
        "  fd.close()\n",
        "  record = json.loads(r)\n",
        "  prod_id = str(input(\"Enter the product ID of the item to be updated:\"))\n",
        "  name = str(input(\"Enter new name:\"))\n",
        "  pr = int(input(\"Enter new price:\"))\n",
        "  qn = int(input(\"Enter new quantity:\"))\n",
        "\n",
        "  record[prod_id] = {'name': name, 'pr': pr, 'qn': qn}\n",
        "    \n",
        "  print(\"Updated successfully!\")\n",
        "\n",
        "  js = json.dumps(record)\n",
        "\n",
        "  fd = open(\"record.json\",'w')\n",
        "  fd.write(js)\n",
        "  fd.close()\n",
        "  CHOICE = input('Enter y to continue or n to exit: ')\n",
        "  if CHOICE == 'y':\n",
        "      main()\n",
        "  else:\n",
        "      exit()"
      ],
      "execution_count": 3,
      "outputs": []
    },
    {
      "cell_type": "code",
      "metadata": {
        "id": "yl8mBgl7EJ3z"
      },
      "source": [
        "def delet():\n",
        "  fd = open(\"record.json\",'r')\n",
        "  r = fd.read()\n",
        "  fd.close()\n",
        "  record = json.loads(r)\n",
        "  d = str(input(\"Enter the product ID of the item to be deleted:\\n\"))\n",
        "  del record[d]\n",
        "\n",
        "  print(\"Deletion succesful!\")\n",
        "\n",
        "  js = json.dumps(record)\n",
        "\n",
        "  fd = open(\"record.json\",'w')\n",
        "  fd.write(js)\n",
        "  fd.close()\n",
        "  CHOICE = input('Enter y to continue or n to exit: ')\n",
        "  if CHOICE == 'y':\n",
        "      main()\n",
        "  else:\n",
        "      exit()"
      ],
      "execution_count": 4,
      "outputs": []
    },
    {
      "cell_type": "code",
      "metadata": {
        "id": "2C86WQBxdkGN"
      },
      "source": [
        "def purchase():\n",
        "  fd = open(\"record.json\",'r')\n",
        "  record_data = fd.read()\n",
        "  fd.close()\n",
        "  records= json.loads(record_data)\n",
        "  ui_prod  = input(\"Enter the product_Id: \")\n",
        "  ui_quant = int(input(\"Enter the quantity: \"))\n",
        "\n",
        "  if (records[ui_prod]['qn']>=ui_quant):\n",
        "      print(\"Product: \", records[ui_prod]['name'])\n",
        "      print(\"Price: \", records[ui_prod]['pr'])\n",
        "      print(\"Billing Amount: \", records[ui_prod]['pr'] * ui_quant)\n",
        "      print(\"Please Visit Again \")\n",
        "      records[ui_prod]['qn'] = records[ui_prod]['qn'] - ui_quant\n",
        "\n",
        "      fd = open(\"record.json\",'w')\n",
        "      data = json.dumps(records)\n",
        "      fd.write(data)\n",
        "      fd.close()\n",
        "\n",
        "      sales_file = open(\"sale.json\",'r')\n",
        "      sales_data= sales_file.read()\n",
        "      sales_file.close()\n",
        "      record= json.loads(sales_data)\n",
        "      # sales = {}\n",
        "      sales[len(sales)+1] = {'id' : ui_prod, 'name' : records[ui_prod]['name'], 'pr' : records[ui_prod]['pr'], 'qn' : ui_quant, 'amount': records[ui_prod]['pr'] * ui_quant}\n",
        "      \n",
        "      sales_file = open(\"sale.json\",'w')\n",
        "      sales_data= json.dumps(sales)\n",
        "      sales_file.write(sales_data)\n",
        "      sales_file.close()\n",
        "      CHOICE = input('Enter y to continue or n to exit: ')\n",
        "      if CHOICE == 'y':\n",
        "          main()\n",
        "      else:\n",
        "          exit()\n",
        "  else:\n",
        "      print(\" Sorry! We have only \"+str(records[ui_prod]['qn'])+\" Products\")"
      ],
      "execution_count": 5,
      "outputs": []
    },
    {
      "cell_type": "code",
      "metadata": {
        "id": "zqQX_FNYdpwE"
      },
      "source": [
        "def viewProducts():\n",
        "  fd = open(\"record.json\",'r')\n",
        "  record= fd.read()\n",
        "  records= json.loads(record)\n",
        "  print(\"*********** ALL PRODUCTS **************\")\n",
        "  print(\"Product Id\\t\" ,\"Product Name\\t\",\"Price\\t\",\"Quantity\\t\")\n",
        "  for i in records.keys():\n",
        "      print(i,\"\\t\\t\",records[i]['name'],\"\\t\\t\",records[i]['pr'],\"\\t\\t\",records[i]['qn'],\"\\t\")\n",
        "  fd.close()\n",
        "  CHOICE = input('Enter y to continue or n to exit: ')\n",
        "  if CHOICE == 'y':\n",
        "      main()\n",
        "  else:\n",
        "      exit()"
      ],
      "execution_count": 6,
      "outputs": []
    },
    {
      "cell_type": "code",
      "metadata": {
        "id": "bFYOB3X4duTF"
      },
      "source": [
        "def salesReport():\n",
        "  sales = open(\"sale.json\",'r')\n",
        "  data = sales.read()\n",
        "  records= json.loads(data)\n",
        "  print(\"************SOLD PRODUCTS***************\")\n",
        "  print(\"Sl No.\\tProduct Id\\tProduct Name\\t\\tPrice\\t\\tQuantity\\tTotal Amount\")\n",
        "  for i in records.keys():\n",
        "    print(i,\"\\t\",records[i]['id'],\"\\t\\t\",records[i]['name'],\"\\t\\t\",records[i]['pr'],\"\\t\\t\",records[i]['qn'],\"\\t\\t\",records[i]['amount'])\n",
        "\n",
        "  sales.close()\n",
        "  CHOICE = input('Enter y to continue or n to exit: ')\n",
        "  if CHOICE == 'y':\n",
        "      main()\n",
        "  else:\n",
        "      exit()"
      ],
      "execution_count": 7,
      "outputs": []
    },
    {
      "cell_type": "code",
      "metadata": {
        "id": "YFpu6msSdxr2"
      },
      "source": [
        "def main():\n",
        "  print('===============================')\n",
        "  print('= Inventory Management System =')\n",
        "  print('===============================')\n",
        "  print('(1) Add New Item')\n",
        "  print('(2) Update Item')\n",
        "  print('(3) Delete Item')\n",
        "  print('(4) Buy Item')\n",
        "  print('(5) View All Items')\n",
        "  print('(6) Print Sales Report')\n",
        "  print('(7) Quit')\n",
        "  CHOICE = int(input(\"Enter choice: \"))\n",
        "  if CHOICE == 1:\n",
        "    add()\n",
        "  elif CHOICE == 2:\n",
        "      update()    \n",
        "  elif CHOICE == 3:\n",
        "      delet()    \n",
        "  elif CHOICE == 4:\n",
        "      purchase()\n",
        "  elif CHOICE == 5:\n",
        "      viewProducts()      \n",
        "  elif CHOICE == 5:\n",
        "      salesReport()\n",
        "  elif CHOICE == 5:\n",
        "      exit()\n",
        "  else:\n",
        "      print(\"Invalid Choice!\")"
      ],
      "execution_count": 8,
      "outputs": []
    },
    {
      "cell_type": "code",
      "metadata": {
        "id": "o6MnDyKId2rK",
        "colab": {
          "base_uri": "https://localhost:8080/"
        },
        "outputId": "60517872-5968-4ec2-ea4a-a025a8067b22"
      },
      "source": [
        "main()\n"
      ],
      "execution_count": 9,
      "outputs": [
        {
          "output_type": "stream",
          "name": "stdout",
          "text": [
            "===============================\n",
            "= Inventory Management System =\n",
            "===============================\n",
            "(1) Add New Item\n",
            "(2) Update Item\n",
            "(3) Delete Item\n",
            "(4) Buy Item\n",
            "(5) View All Items\n",
            "(6) Print Sales Report\n",
            "(7) Quit\n",
            "Enter choice: 5\n",
            "*********** ALL PRODUCTS **************\n",
            "Product Id\t Product Name\t Price\t Quantity\t\n",
            "1001 \t\t Choco Cake \t\t 100 \t\t 34 \t\n",
            "1002 \t\t Milk Cake \t\t 800 \t\t 99 \t\n",
            "1003 \t\t Drink \t\t 85 \t\t 96 \t\n",
            "1004 \t\t Candy \t\t 5 \t\t 992 \t\n",
            "1005 \t\t Pen \t\t 20 \t\t 100 \t\n",
            "1006 \t\t Phone \t\t 50000 \t\t 7 \t\n",
            "1007 \t\t Mic \t\t 1500 \t\t 15 \t\n",
            "1008 \t\t Case \t\t 599 \t\t 3 \t\n",
            "1009 \t\t Keyboard \t\t 1999 \t\t 6 \t\n",
            "1010 \t\t Mouse \t\t 250 \t\t 90 \t\n",
            "Enter y to continue or n to exit: y\n",
            "===============================\n",
            "= Inventory Management System =\n",
            "===============================\n",
            "(1) Add New Item\n",
            "(2) Update Item\n",
            "(3) Delete Item\n",
            "(4) Buy Item\n",
            "(5) View All Items\n",
            "(6) Print Sales Report\n",
            "(7) Quit\n",
            "Enter choice: 2\n",
            "Enter the product ID of the item to be updated:1001\n",
            "Enter new name:Choco Cake\n",
            "Enter new price:55\n",
            "Enter new quantity:13\n",
            "Updated successfully!\n"
          ]
        }
      ]
    }
  ]
}